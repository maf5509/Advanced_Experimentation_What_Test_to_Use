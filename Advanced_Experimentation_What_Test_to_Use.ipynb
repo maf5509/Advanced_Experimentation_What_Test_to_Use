{
 "cells": [
  {
   "cell_type": "markdown",
   "metadata": {},
   "source": [
    "### Advanced Experimentation: What Test to Use\n",
    "This exercise adresses the European Social Survey. The data can be found at the following link: <BR\\>https://raw.githubusercontent.com/Thinkful-Ed/data-201-resources/master/ESS_practice_data/ESSdata_Thinkful.csv<BR\\><BR\\>\n",
    "The codebook is at this link: <BR\\>https://thinkful-ed.github.io/data-201-resources/ESS_practice_data/ESS_codebook.html"
   ]
  },
  {
   "cell_type": "code",
   "execution_count": 1,
   "metadata": {
    "collapsed": true
   },
   "outputs": [],
   "source": [
    "import pandas as pd\n",
    "import matplotlib.pyplot as plt\n",
    "import seaborn as sns\n",
    "import scipy.stats as stats\n",
    "import numpy as np\n",
    "from statsmodels.stats.multicomp import pairwise_tukeyhsd\n",
    "%matplotlib inline"
   ]
  },
  {
   "cell_type": "code",
   "execution_count": 2,
   "metadata": {
    "collapsed": true
   },
   "outputs": [],
   "source": [
    "ess = pd.read_csv('C://Users//fergu//ESSdata_Thinkful.csv')"
   ]
  },
  {
   "cell_type": "code",
   "execution_count": 3,
   "metadata": {},
   "outputs": [
    {
     "data": {
      "text/plain": [
       "(8594, 13)"
      ]
     },
     "execution_count": 3,
     "metadata": {},
     "output_type": "execute_result"
    }
   ],
   "source": [
    "ess.shape"
   ]
  },
  {
   "cell_type": "code",
   "execution_count": 4,
   "metadata": {},
   "outputs": [
    {
     "data": {
      "text/plain": [
       " 5.0     1697\n",
       " 7.0     1639\n",
       " 8.0     1299\n",
       " 6.0     1098\n",
       " 4.0      767\n",
       " 3.0      715\n",
       " 2.0      440\n",
       " 9.0      337\n",
       " 0.0      271\n",
       " 1.0      170\n",
       " 10.0     147\n",
       "NaN        14\n",
       "Name: ppltrst, dtype: int64"
      ]
     },
     "execution_count": 4,
     "metadata": {},
     "output_type": "execute_result"
    }
   ],
   "source": [
    "ess['ppltrst'].value_counts(dropna=False)"
   ]
  },
  {
   "cell_type": "code",
   "execution_count": 5,
   "metadata": {},
   "outputs": [
    {
     "data": {
      "text/plain": [
       "cntry        0\n",
       "idno         0\n",
       "year         0\n",
       "tvtot        8\n",
       "ppltrst     14\n",
       "pplfair     39\n",
       "pplhlp      25\n",
       "happy       31\n",
       "sclmeet     15\n",
       "sclact      94\n",
       "gndr        10\n",
       "agea       239\n",
       "partner     17\n",
       "dtype: int64"
      ]
     },
     "execution_count": 5,
     "metadata": {},
     "output_type": "execute_result"
    }
   ],
   "source": [
    "ess.isnull().sum()"
   ]
  },
  {
   "cell_type": "code",
   "execution_count": 6,
   "metadata": {
    "collapsed": true
   },
   "outputs": [],
   "source": [
    "ess = ess.dropna()"
   ]
  },
  {
   "cell_type": "code",
   "execution_count": 7,
   "metadata": {},
   "outputs": [
    {
     "data": {
      "text/plain": [
       "(8147, 13)"
      ]
     },
     "execution_count": 7,
     "metadata": {},
     "output_type": "execute_result"
    }
   ],
   "source": [
    "ess.shape"
   ]
  },
  {
   "cell_type": "code",
   "execution_count": 8,
   "metadata": {},
   "outputs": [
    {
     "data": {
      "text/html": [
       "<div>\n",
       "<style>\n",
       "    .dataframe thead tr:only-child th {\n",
       "        text-align: right;\n",
       "    }\n",
       "\n",
       "    .dataframe thead th {\n",
       "        text-align: left;\n",
       "    }\n",
       "\n",
       "    .dataframe tbody tr th {\n",
       "        vertical-align: top;\n",
       "    }\n",
       "</style>\n",
       "<table border=\"1\" class=\"dataframe\">\n",
       "  <thead>\n",
       "    <tr style=\"text-align: right;\">\n",
       "      <th></th>\n",
       "      <th>cntry</th>\n",
       "      <th>idno</th>\n",
       "      <th>year</th>\n",
       "      <th>tvtot</th>\n",
       "      <th>ppltrst</th>\n",
       "      <th>pplfair</th>\n",
       "      <th>pplhlp</th>\n",
       "      <th>happy</th>\n",
       "      <th>sclmeet</th>\n",
       "      <th>sclact</th>\n",
       "      <th>gndr</th>\n",
       "      <th>agea</th>\n",
       "      <th>partner</th>\n",
       "    </tr>\n",
       "  </thead>\n",
       "  <tbody>\n",
       "    <tr>\n",
       "      <th>0</th>\n",
       "      <td>CH</td>\n",
       "      <td>5.0</td>\n",
       "      <td>6</td>\n",
       "      <td>3.0</td>\n",
       "      <td>3.0</td>\n",
       "      <td>10.0</td>\n",
       "      <td>5.0</td>\n",
       "      <td>8.0</td>\n",
       "      <td>5.0</td>\n",
       "      <td>4.0</td>\n",
       "      <td>2.0</td>\n",
       "      <td>60.0</td>\n",
       "      <td>1.0</td>\n",
       "    </tr>\n",
       "    <tr>\n",
       "      <th>1</th>\n",
       "      <td>CH</td>\n",
       "      <td>25.0</td>\n",
       "      <td>6</td>\n",
       "      <td>6.0</td>\n",
       "      <td>5.0</td>\n",
       "      <td>7.0</td>\n",
       "      <td>5.0</td>\n",
       "      <td>9.0</td>\n",
       "      <td>3.0</td>\n",
       "      <td>2.0</td>\n",
       "      <td>2.0</td>\n",
       "      <td>59.0</td>\n",
       "      <td>1.0</td>\n",
       "    </tr>\n",
       "    <tr>\n",
       "      <th>2</th>\n",
       "      <td>CH</td>\n",
       "      <td>26.0</td>\n",
       "      <td>6</td>\n",
       "      <td>1.0</td>\n",
       "      <td>8.0</td>\n",
       "      <td>8.0</td>\n",
       "      <td>8.0</td>\n",
       "      <td>7.0</td>\n",
       "      <td>6.0</td>\n",
       "      <td>3.0</td>\n",
       "      <td>1.0</td>\n",
       "      <td>24.0</td>\n",
       "      <td>2.0</td>\n",
       "    </tr>\n",
       "    <tr>\n",
       "      <th>3</th>\n",
       "      <td>CH</td>\n",
       "      <td>28.0</td>\n",
       "      <td>6</td>\n",
       "      <td>4.0</td>\n",
       "      <td>6.0</td>\n",
       "      <td>6.0</td>\n",
       "      <td>7.0</td>\n",
       "      <td>10.0</td>\n",
       "      <td>6.0</td>\n",
       "      <td>2.0</td>\n",
       "      <td>2.0</td>\n",
       "      <td>64.0</td>\n",
       "      <td>1.0</td>\n",
       "    </tr>\n",
       "    <tr>\n",
       "      <th>4</th>\n",
       "      <td>CH</td>\n",
       "      <td>29.0</td>\n",
       "      <td>6</td>\n",
       "      <td>5.0</td>\n",
       "      <td>6.0</td>\n",
       "      <td>7.0</td>\n",
       "      <td>5.0</td>\n",
       "      <td>8.0</td>\n",
       "      <td>7.0</td>\n",
       "      <td>2.0</td>\n",
       "      <td>2.0</td>\n",
       "      <td>55.0</td>\n",
       "      <td>1.0</td>\n",
       "    </tr>\n",
       "  </tbody>\n",
       "</table>\n",
       "</div>"
      ],
      "text/plain": [
       "  cntry  idno  year  tvtot  ppltrst  pplfair  pplhlp  happy  sclmeet  sclact  \\\n",
       "0    CH   5.0     6    3.0      3.0     10.0     5.0    8.0      5.0     4.0   \n",
       "1    CH  25.0     6    6.0      5.0      7.0     5.0    9.0      3.0     2.0   \n",
       "2    CH  26.0     6    1.0      8.0      8.0     8.0    7.0      6.0     3.0   \n",
       "3    CH  28.0     6    4.0      6.0      6.0     7.0   10.0      6.0     2.0   \n",
       "4    CH  29.0     6    5.0      6.0      7.0     5.0    8.0      7.0     2.0   \n",
       "\n",
       "   gndr  agea  partner  \n",
       "0   2.0  60.0      1.0  \n",
       "1   2.0  59.0      1.0  \n",
       "2   1.0  24.0      2.0  \n",
       "3   2.0  64.0      1.0  \n",
       "4   2.0  55.0      1.0  "
      ]
     },
     "execution_count": 8,
     "metadata": {},
     "output_type": "execute_result"
    }
   ],
   "source": [
    "ess.head()"
   ]
  },
  {
   "cell_type": "code",
   "execution_count": 9,
   "metadata": {},
   "outputs": [
    {
     "data": {
      "text/html": [
       "<div>\n",
       "<style>\n",
       "    .dataframe thead tr:only-child th {\n",
       "        text-align: right;\n",
       "    }\n",
       "\n",
       "    .dataframe thead th {\n",
       "        text-align: left;\n",
       "    }\n",
       "\n",
       "    .dataframe tbody tr th {\n",
       "        vertical-align: top;\n",
       "    }\n",
       "</style>\n",
       "<table border=\"1\" class=\"dataframe\">\n",
       "  <thead>\n",
       "    <tr style=\"text-align: right;\">\n",
       "      <th></th>\n",
       "      <th>cntry</th>\n",
       "      <th>idno</th>\n",
       "      <th>year</th>\n",
       "      <th>tvtot</th>\n",
       "      <th>ppltrst</th>\n",
       "      <th>pplfair</th>\n",
       "      <th>pplhlp</th>\n",
       "      <th>happy</th>\n",
       "      <th>sclmeet</th>\n",
       "      <th>sclact</th>\n",
       "      <th>gndr</th>\n",
       "      <th>agea</th>\n",
       "      <th>partner</th>\n",
       "    </tr>\n",
       "  </thead>\n",
       "  <tbody>\n",
       "    <tr>\n",
       "      <th>8589</th>\n",
       "      <td>SE</td>\n",
       "      <td>3729.0</td>\n",
       "      <td>7</td>\n",
       "      <td>3.0</td>\n",
       "      <td>4.0</td>\n",
       "      <td>5.0</td>\n",
       "      <td>3.0</td>\n",
       "      <td>6.0</td>\n",
       "      <td>6.0</td>\n",
       "      <td>2.0</td>\n",
       "      <td>1.0</td>\n",
       "      <td>18.0</td>\n",
       "      <td>2.0</td>\n",
       "    </tr>\n",
       "    <tr>\n",
       "      <th>8590</th>\n",
       "      <td>SE</td>\n",
       "      <td>3732.0</td>\n",
       "      <td>7</td>\n",
       "      <td>5.0</td>\n",
       "      <td>6.0</td>\n",
       "      <td>4.0</td>\n",
       "      <td>4.0</td>\n",
       "      <td>10.0</td>\n",
       "      <td>6.0</td>\n",
       "      <td>3.0</td>\n",
       "      <td>1.0</td>\n",
       "      <td>15.0</td>\n",
       "      <td>2.0</td>\n",
       "    </tr>\n",
       "    <tr>\n",
       "      <th>8591</th>\n",
       "      <td>SE</td>\n",
       "      <td>3743.0</td>\n",
       "      <td>7</td>\n",
       "      <td>4.0</td>\n",
       "      <td>5.0</td>\n",
       "      <td>7.0</td>\n",
       "      <td>6.0</td>\n",
       "      <td>8.0</td>\n",
       "      <td>6.0</td>\n",
       "      <td>3.0</td>\n",
       "      <td>1.0</td>\n",
       "      <td>44.0</td>\n",
       "      <td>2.0</td>\n",
       "    </tr>\n",
       "    <tr>\n",
       "      <th>8592</th>\n",
       "      <td>SE</td>\n",
       "      <td>3744.0</td>\n",
       "      <td>7</td>\n",
       "      <td>5.0</td>\n",
       "      <td>8.0</td>\n",
       "      <td>8.0</td>\n",
       "      <td>6.0</td>\n",
       "      <td>9.0</td>\n",
       "      <td>7.0</td>\n",
       "      <td>3.0</td>\n",
       "      <td>1.0</td>\n",
       "      <td>15.0</td>\n",
       "      <td>2.0</td>\n",
       "    </tr>\n",
       "    <tr>\n",
       "      <th>8593</th>\n",
       "      <td>SE</td>\n",
       "      <td>3746.0</td>\n",
       "      <td>7</td>\n",
       "      <td>2.0</td>\n",
       "      <td>6.0</td>\n",
       "      <td>7.0</td>\n",
       "      <td>5.0</td>\n",
       "      <td>7.0</td>\n",
       "      <td>7.0</td>\n",
       "      <td>4.0</td>\n",
       "      <td>2.0</td>\n",
       "      <td>15.0</td>\n",
       "      <td>2.0</td>\n",
       "    </tr>\n",
       "  </tbody>\n",
       "</table>\n",
       "</div>"
      ],
      "text/plain": [
       "     cntry    idno  year  tvtot  ppltrst  pplfair  pplhlp  happy  sclmeet  \\\n",
       "8589    SE  3729.0     7    3.0      4.0      5.0     3.0    6.0      6.0   \n",
       "8590    SE  3732.0     7    5.0      6.0      4.0     4.0   10.0      6.0   \n",
       "8591    SE  3743.0     7    4.0      5.0      7.0     6.0    8.0      6.0   \n",
       "8592    SE  3744.0     7    5.0      8.0      8.0     6.0    9.0      7.0   \n",
       "8593    SE  3746.0     7    2.0      6.0      7.0     5.0    7.0      7.0   \n",
       "\n",
       "      sclact  gndr  agea  partner  \n",
       "8589     2.0   1.0  18.0      2.0  \n",
       "8590     3.0   1.0  15.0      2.0  \n",
       "8591     3.0   1.0  44.0      2.0  \n",
       "8592     3.0   1.0  15.0      2.0  \n",
       "8593     4.0   2.0  15.0      2.0  "
      ]
     },
     "execution_count": 9,
     "metadata": {},
     "output_type": "execute_result"
    }
   ],
   "source": [
    "ess.tail()"
   ]
  },
  {
   "cell_type": "markdown",
   "metadata": {},
   "source": [
    "### Did people become less trusting from 2012 to 2014? Compute results for each country in the sample."
   ]
  },
  {
   "cell_type": "markdown",
   "metadata": {},
   "source": [
    "The plots below show more or less normally-distributed data."
   ]
  },
  {
   "cell_type": "code",
   "execution_count": 10,
   "metadata": {},
   "outputs": [
    {
     "data": {
      "image/png": "[encoded data removed]",
      "text/plain": [
       "<matplotlib.figure.Figure at 0x1c325b4ef98>"
      ]
     },
     "metadata": {},
     "output_type": "display_data"
    }
   ],
   "source": [
    "plt.rcParams['figure.figsize'] = (20.0, 10.0)\n",
    "countries = list(ess['cntry'].unique())\n",
    "years = list(ess['year'].unique())\n",
    "for year in years:\n",
    "    for country in countries:\n",
    "        plt.subplot(len(years),len(countries), countries.index(country) + years.index(year) * len(countries) + 1)\n",
    "#        print(str(countries.index(country) + years.index(year) * len(countries) + 1))\n",
    "        ess[(ess['cntry'] == country) & (ess['year'] == year)]['ppltrst'].hist()\n",
    "        plt.title(str(country) + '-' + 'Distrib. of trust-' + str(2012 + 2*years.index(year)))\n",
    "plt.show()"
   ]
  },
  {
   "cell_type": "code",
   "execution_count": 11,
   "metadata": {
    "collapsed": true
   },
   "outputs": [],
   "source": [
    "results_trust = {'country':countries,\n",
    "          't-statistic':[],\n",
    "          'p-value':[]}"
   ]
  },
  {
   "cell_type": "code",
   "execution_count": 14,
   "metadata": {
    "collapsed": true
   },
   "outputs": [],
   "source": [
    "for country in countries:\n",
    "    results_trust['t-statistic'].append(stats.ttest_ind(ess[(ess['cntry'] == country) & (ess['year'] == years[0])]['ppltrst'], \n",
    "                                                  ess[(ess['cntry'] == country) & (ess['year'] == years[1])]['ppltrst'])[0])\n",
    "    results_trust['p-value'].append(stats.ttest_ind(ess[(ess['cntry'] == country) & (ess['year'] == years[0])]['ppltrst'],\n",
    "                                                  ess[(ess['cntry'] == country) & (ess['year'] == years[1])]['ppltrst'])[1])"
   ]
  },
  {
   "cell_type": "code",
   "execution_count": 15,
   "metadata": {},
   "outputs": [
    {
     "data": {
      "text/html": [
       "<div>\n",
       "<style>\n",
       "    .dataframe thead tr:only-child th {\n",
       "        text-align: right;\n",
       "    }\n",
       "\n",
       "    .dataframe thead th {\n",
       "        text-align: left;\n",
       "    }\n",
       "\n",
       "    .dataframe tbody tr th {\n",
       "        vertical-align: top;\n",
       "    }\n",
       "</style>\n",
       "<table border=\"1\" class=\"dataframe\">\n",
       "  <thead>\n",
       "    <tr style=\"text-align: right;\">\n",
       "      <th></th>\n",
       "      <th>country</th>\n",
       "      <th>t-statistic</th>\n",
       "      <th>p-value</th>\n",
       "    </tr>\n",
       "  </thead>\n",
       "  <tbody>\n",
       "    <tr>\n",
       "      <th>0</th>\n",
       "      <td>CH</td>\n",
       "      <td>-0.715697</td>\n",
       "      <td>0.474292</td>\n",
       "    </tr>\n",
       "    <tr>\n",
       "      <th>1</th>\n",
       "      <td>CZ</td>\n",
       "      <td>0.340754</td>\n",
       "      <td>0.733348</td>\n",
       "    </tr>\n",
       "    <tr>\n",
       "      <th>2</th>\n",
       "      <td>DE</td>\n",
       "      <td>-0.346621</td>\n",
       "      <td>0.731776</td>\n",
       "    </tr>\n",
       "    <tr>\n",
       "      <th>3</th>\n",
       "      <td>ES</td>\n",
       "      <td>2.100067</td>\n",
       "      <td>0.035832</td>\n",
       "    </tr>\n",
       "    <tr>\n",
       "      <th>4</th>\n",
       "      <td>NO</td>\n",
       "      <td>0.511922</td>\n",
       "      <td>0.608785</td>\n",
       "    </tr>\n",
       "    <tr>\n",
       "      <th>5</th>\n",
       "      <td>SE</td>\n",
       "      <td>-2.026870</td>\n",
       "      <td>0.042829</td>\n",
       "    </tr>\n",
       "  </tbody>\n",
       "</table>\n",
       "</div>"
      ],
      "text/plain": [
       "  country  t-statistic   p-value\n",
       "0      CH    -0.715697  0.474292\n",
       "1      CZ     0.340754  0.733348\n",
       "2      DE    -0.346621  0.731776\n",
       "3      ES     2.100067  0.035832\n",
       "4      NO     0.511922  0.608785\n",
       "5      SE    -2.026870  0.042829"
      ]
     },
     "execution_count": 15,
     "metadata": {},
     "output_type": "execute_result"
    }
   ],
   "source": [
    "cols = ['country', 't-statistic', 'p-value']\n",
    "pd.DataFrame(results_trust)[cols]"
   ]
  },
  {
   "cell_type": "code",
   "execution_count": 16,
   "metadata": {},
   "outputs": [
    {
     "name": "stdout",
     "output_type": "stream",
     "text": [
      "Mean trust in Spain, 2012: 5.127806563039724\n",
      "Mean trust in Spain, 2014: 4.940035273368607\n",
      "Mean happiness in Spain, 2012: 7.557858376511226\n",
      "Mean happiness in Spain, 2014: 7.450617283950617\n",
      "Mean trust in Sweden, 2012: 6.043073341094296\n",
      "Mean trust in Sweden, 2014: 6.239907727797001\n",
      "Mean happiness in Sweden, 2012: 7.90104772991851\n",
      "Mean happiness in Sweden, 2014: 7.9388696655132645\n"
     ]
    }
   ],
   "source": [
    "spain_trust_12 = np.mean(ess[(ess['year'] == years[0]) & (ess['cntry'] == 'ES')]['ppltrst'])\n",
    "spain_trust_14 = np.mean(ess[(ess['year'] == years[1]) & (ess['cntry'] == 'ES')]['ppltrst'])\n",
    "spain_happy_12 = np.mean(ess[(ess['year'] == years[0]) & (ess['cntry'] == 'ES')]['happy'])\n",
    "spain_happy_14 = np.mean(ess[(ess['year'] == years[1]) & (ess['cntry'] == 'ES')]['happy'])\n",
    "\n",
    "sweden_trust_12 = np.mean(ess[(ess['year'] == years[0]) & (ess['cntry'] == 'SE')]['ppltrst'])\n",
    "sweden_trust_14 = np.mean(ess[(ess['year'] == years[1]) & (ess['cntry'] == 'SE')]['ppltrst'])\n",
    "sweden_happy_12 = np.mean(ess[(ess['year'] == years[0]) & (ess['cntry'] == 'SE')]['happy'])\n",
    "sweden_happy_14 = np.mean(ess[(ess['year'] == years[1]) & (ess['cntry'] == 'SE')]['happy'])\n",
    "\n",
    "print('Mean trust in Spain, 2012: ' + str(spain_trust_12))\n",
    "print('Mean trust in Spain, 2014: ' + str(spain_trust_14))\n",
    "print('Mean happiness in Spain, 2012: ' + str(spain_happy_12))\n",
    "print('Mean happiness in Spain, 2014: ' + str(spain_happy_14))\n",
    "\n",
    "print('Mean trust in Sweden, 2012: ' + str(sweden_trust_12))\n",
    "print('Mean trust in Sweden, 2014: ' + str(sweden_trust_14))\n",
    "print('Mean happiness in Sweden, 2012: ' + str(sweden_happy_12))\n",
    "print('Mean happiness in Sweden, 2014: ' + str(sweden_happy_14))\n"
   ]
  },
  {
   "cell_type": "markdown",
   "metadata": {},
   "source": [
    "### Analysis \n",
    "Thus two countries (Spain and Sweden) can be said to have changed in their trust levels to a statistically significant degree. Both of these countries show p-values less than 0.05 for the change in mean trust between 2012 and 2014."
   ]
  },
  {
   "cell_type": "markdown",
   "metadata": {},
   "source": [
    "### Did people become happier from 2012 to 2014? Compute results for each country in the sample."
   ]
  },
  {
   "cell_type": "markdown",
   "metadata": {},
   "source": [
    "The plots below show more or less normally-distributed data."
   ]
  },
  {
   "cell_type": "code",
   "execution_count": 17,
   "metadata": {},
   "outputs": [
    {
     "data": {
      "image/png": "[encoded data removed]",
      "text/plain": [
       "<matplotlib.figure.Figure at 0x1c326d9f550>"
      ]
     },
     "metadata": {},
     "output_type": "display_data"
    }
   ],
   "source": [
    "plt.rcParams['figure.figsize'] = (20.0, 10.0)\n",
    "countries = list(ess['cntry'].unique())\n",
    "years = list(ess['year'].unique())\n",
    "for year in years:\n",
    "    for country in countries:\n",
    "        plt.subplot(len(years),len(countries), countries.index(country) + years.index(year) * len(countries) + 1)\n",
    "#        print(str(countries.index(country) + years.index(year) * len(countries) + 1))\n",
    "        ess[(ess['cntry'] == country) & (ess['year'] == year)]['happy'].hist()\n",
    "        plt.title(str(country) + '-' + 'Distrib. of happiness-' + str(2012 + 2*years.index(year)))\n",
    "plt.show()"
   ]
  },
  {
   "cell_type": "code",
   "execution_count": 18,
   "metadata": {
    "collapsed": true
   },
   "outputs": [],
   "source": [
    "results_happy = {'country':countries,\n",
    "          't-statistic':[],\n",
    "          'p-value':[]}"
   ]
  },
  {
   "cell_type": "code",
   "execution_count": 19,
   "metadata": {
    "collapsed": true
   },
   "outputs": [],
   "source": [
    "for country in countries:\n",
    "    results_happy['t-statistic'].append(stats.ttest_ind(ess[(ess['cntry'] == country) & (ess['year'] == years[0])]['happy'], \n",
    "                                                  ess[(ess['cntry'] == country) & (ess['year'] == years[1])]['happy'])[0])\n",
    "    results_happy['p-value'].append(stats.ttest_ind(ess[(ess['cntry'] == country) & (ess['year'] == years[0])]['happy'],\n",
    "                                                  ess[(ess['cntry'] == country) & (ess['year'] == years[1])]['happy'])[1])"
   ]
  },
  {
   "cell_type": "code",
   "execution_count": 20,
   "metadata": {},
   "outputs": [
    {
     "data": {
      "text/html": [
       "<div>\n",
       "<style>\n",
       "    .dataframe thead tr:only-child th {\n",
       "        text-align: right;\n",
       "    }\n",
       "\n",
       "    .dataframe thead th {\n",
       "        text-align: left;\n",
       "    }\n",
       "\n",
       "    .dataframe tbody tr th {\n",
       "        vertical-align: top;\n",
       "    }\n",
       "</style>\n",
       "<table border=\"1\" class=\"dataframe\">\n",
       "  <thead>\n",
       "    <tr style=\"text-align: right;\">\n",
       "      <th></th>\n",
       "      <th>country</th>\n",
       "      <th>t-statistic</th>\n",
       "      <th>p-value</th>\n",
       "    </tr>\n",
       "  </thead>\n",
       "  <tbody>\n",
       "    <tr>\n",
       "      <th>0</th>\n",
       "      <td>CH</td>\n",
       "      <td>-0.812142</td>\n",
       "      <td>0.416841</td>\n",
       "    </tr>\n",
       "    <tr>\n",
       "      <th>1</th>\n",
       "      <td>CZ</td>\n",
       "      <td>-1.159254</td>\n",
       "      <td>0.246582</td>\n",
       "    </tr>\n",
       "    <tr>\n",
       "      <th>2</th>\n",
       "      <td>DE</td>\n",
       "      <td>-0.966318</td>\n",
       "      <td>0.343141</td>\n",
       "    </tr>\n",
       "    <tr>\n",
       "      <th>3</th>\n",
       "      <td>ES</td>\n",
       "      <td>1.375059</td>\n",
       "      <td>0.169248</td>\n",
       "    </tr>\n",
       "    <tr>\n",
       "      <th>4</th>\n",
       "      <td>NO</td>\n",
       "      <td>4.152957</td>\n",
       "      <td>0.000035</td>\n",
       "    </tr>\n",
       "    <tr>\n",
       "      <th>5</th>\n",
       "      <td>SE</td>\n",
       "      <td>-0.537279</td>\n",
       "      <td>0.591144</td>\n",
       "    </tr>\n",
       "  </tbody>\n",
       "</table>\n",
       "</div>"
      ],
      "text/plain": [
       "  country  t-statistic   p-value\n",
       "0      CH    -0.812142  0.416841\n",
       "1      CZ    -1.159254  0.246582\n",
       "2      DE    -0.966318  0.343141\n",
       "3      ES     1.375059  0.169248\n",
       "4      NO     4.152957  0.000035\n",
       "5      SE    -0.537279  0.591144"
      ]
     },
     "execution_count": 20,
     "metadata": {},
     "output_type": "execute_result"
    }
   ],
   "source": [
    "cols = ['country', 't-statistic', 'p-value']\n",
    "pd.DataFrame(results_happy)[cols]"
   ]
  },
  {
   "cell_type": "markdown",
   "metadata": {},
   "source": [
    "### Analysis \n",
    "Only one country (Norway) changed its happiness level to a statistically significant degree. This change came in the form of a decrease."
   ]
  },
  {
   "cell_type": "code",
   "execution_count": 21,
   "metadata": {},
   "outputs": [
    {
     "name": "stdout",
     "output_type": "stream",
     "text": [
      "Mean happiness in Norway, 2012: 8.252824858757062\n",
      "Mean happiness in Norway, 2014: 7.919943820224719\n"
     ]
    }
   ],
   "source": [
    "norway_happy_12 = np.mean(ess[(ess['year'] == years[0]) & (ess['cntry'] == 'NO')]['happy'])\n",
    "norway_happy_14 = np.mean(ess[(ess['year'] == years[1]) & (ess['cntry'] == 'NO')]['happy'])\n",
    "\n",
    "print('Mean happiness in Norway, 2012: ' + str(norway_happy_12))\n",
    "print('Mean happiness in Norway, 2014: ' + str(norway_happy_14))"
   ]
  },
  {
   "cell_type": "markdown",
   "metadata": {},
   "source": [
    "### Who reported watching more TV in 2012, men or women?"
   ]
  },
  {
   "cell_type": "code",
   "execution_count": 22,
   "metadata": {},
   "outputs": [
    {
     "data": {
      "image/png": "[encoded data removed]",
      "text/plain": [
       "<matplotlib.figure.Figure at 0x1c326d95748>"
      ]
     },
     "metadata": {},
     "output_type": "display_data"
    }
   ],
   "source": [
    "plt.subplot(1,2,1)\n",
    "ess[ess['gndr'] == 1.0]['tvtot'].hist()\n",
    "plt.title('TV viewing hours-' + 'men')\n",
    "plt.subplot(1,2,2)\n",
    "ess[ess['gndr'] == 2.0]['tvtot'].hist()\n",
    "plt.title('TV viewing hours-' + 'women')\n",
    "plt.show()"
   ]
  },
  {
   "cell_type": "code",
   "execution_count": 23,
   "metadata": {},
   "outputs": [
    {
     "name": "stdout",
     "output_type": "stream",
     "text": [
      "Men: mean tv viewing hours: 3.7828418230563003\n",
      "Women: mean tv viewing hours: 3.8548466864490605\n",
      "T-test for TV viewing hours, men vs. women:\n",
      "Ttest_indResult(statistic=-1.6176926106407103, pvalue=0.10576758143732026)\n"
     ]
    }
   ],
   "source": [
    "x = stats.ttest_ind(ess[ess['gndr'] == 1.0]['tvtot'],\n",
    "                   ess[ess['gndr'] == 2.0]['tvtot'])\n",
    "print('Men: mean tv viewing hours: ' + str(np.mean(ess[ess['gndr'] == 1.0]['tvtot'])))\n",
    "print('Women: mean tv viewing hours: ' + str(np.mean(ess[ess['gndr'] == 2.0]['tvtot'])))\n",
    "print('T-test for TV viewing hours, men vs. women:' + '\\n' + str(x))"
   ]
  },
  {
   "cell_type": "markdown",
   "metadata": {},
   "source": [
    "Thus we see that women watch more hours of TV than men, but the p-value shows that the difference is not statistically significant."
   ]
  },
  {
   "cell_type": "markdown",
   "metadata": {},
   "source": [
    "### Who was more likely to believe people were fair in 2012, people living with a partner or people living alone?"
   ]
  },
  {
   "cell_type": "code",
   "execution_count": 24,
   "metadata": {},
   "outputs": [
    {
     "data": {
      "image/png": "[encoded data removed]",
      "text/plain": [
       "<matplotlib.figure.Figure at 0x1c32647b358>"
      ]
     },
     "metadata": {},
     "output_type": "display_data"
    }
   ],
   "source": [
    "plt.subplot(1,2,1)\n",
    "ess[ess['partner'] == 1.0]['pplfair'].hist()\n",
    "plt.title('Opinion on fairness - no partner')\n",
    "plt.subplot(1,2,2)\n",
    "ess[ess['partner'] == 2.0]['pplfair'].hist()\n",
    "plt.title('Opinion on fairness - partner')\n",
    "plt.show()"
   ]
  },
  {
   "cell_type": "code",
   "execution_count": 25,
   "metadata": {},
   "outputs": [
    {
     "name": "stdout",
     "output_type": "stream",
     "text": [
      "Partner: Opinion on fairness: 6.062238180730102\n",
      "No partner: Opinion on fairness: 5.913848117421825\n",
      "T-test for opinion on people fairness, no partner vs. partner:\n",
      "Ttest_indResult(statistic=3.0751595802436618, pvalue=0.0021108684448777081)\n"
     ]
    }
   ],
   "source": [
    "x = stats.ttest_ind(ess[ess['partner'] == 1.0]['pplfair'],\n",
    "                   ess[ess['partner'] == 2.0]['pplfair'])\n",
    "print('Partner: Opinion on fairness: ' + str(np.mean(ess[ess['partner'] == 1.0]['pplfair'])))\n",
    "print('No partner: Opinion on fairness: ' + str(np.mean(ess[ess['partner'] == 2.0]['pplfair'])))\n",
    "print('T-test for opinion on people fairness, no partner vs. partner:' + '\\n' + str(x))"
   ]
  },
  {
   "cell_type": "markdown",
   "metadata": {},
   "source": [
    "So people who live with a partner are statistically more likely to believe that other people try to be  fair, rather than taking advantage of them."
   ]
  },
  {
   "cell_type": "markdown",
   "metadata": {},
   "source": [
    "### Pick three or four of the countries in the sample and compare how often people met socially in 2014. Are there differences, and if so, which countries stand out?"
   ]
  },
  {
   "cell_type": "code",
   "execution_count": 26,
   "metadata": {},
   "outputs": [
    {
     "name": "stdout",
     "output_type": "stream",
     "text": [
      "F-test value: 60.7198073458\n",
      "p-value: 3.28201770673e-38\n"
     ]
    }
   ],
   "source": [
    "countries_b = ['CZ', 'ES', 'NO', 'SE']\n",
    "subsets = [ess[(ess['cntry'] == country) & (ess['year'] == 7)]['sclmeet'] for country in countries_b]\n",
    "\n",
    "\n",
    "F, p = stats.f_oneway(subsets[0], subsets[1], subsets[2], subsets[3])\n",
    "\n",
    "print('F-test value: ' + str(F))\n",
    "print('p-value: ' + str(p))"
   ]
  },
  {
   "cell_type": "code",
   "execution_count": 27,
   "metadata": {},
   "outputs": [
    {
     "data": {
      "text/plain": [
       "ES    1134\n",
       "SE     867\n",
       "CH     743\n",
       "NO     712\n",
       "CZ     606\n",
       "DE      14\n",
       "Name: cntry, dtype: int64"
      ]
     },
     "execution_count": 27,
     "metadata": {},
     "output_type": "execute_result"
    }
   ],
   "source": [
    "yr_2014_counts = ess[ess['year'] == 7]['cntry'].value_counts()\n",
    "yr_2014_counts"
   ]
  },
  {
   "cell_type": "code",
   "execution_count": 28,
   "metadata": {},
   "outputs": [
    {
     "data": {
      "text/html": [
       "<table class=\"simpletable\">\n",
       "<caption>Multiple Comparison of Means - Tukey HSD,FWER=0.05</caption>\n",
       "<tr>\n",
       "  <th>group1</th> <th>group2</th> <th>meandiff</th>  <th>lower</th>   <th>upper</th> <th>reject</th>\n",
       "</tr>\n",
       "<tr>\n",
       "    <td>CZ</td>     <td>ES</td>    <td>0.7686</td>  <td>0.5866</td>  <td>0.9506</td>  <td>True</td> \n",
       "</tr>\n",
       "<tr>\n",
       "    <td>CZ</td>     <td>NO</td>    <td>0.8153</td>  <td>0.6155</td>  <td>1.0152</td>  <td>True</td> \n",
       "</tr>\n",
       "<tr>\n",
       "    <td>CZ</td>     <td>SE</td>    <td>0.9398</td>  <td>0.7483</td>  <td>1.1313</td>  <td>True</td> \n",
       "</tr>\n",
       "<tr>\n",
       "    <td>ES</td>     <td>NO</td>    <td>0.0467</td>  <td>-0.1262</td> <td>0.2197</td>  <td>False</td>\n",
       "</tr>\n",
       "<tr>\n",
       "    <td>ES</td>     <td>SE</td>    <td>0.1712</td>   <td>0.008</td>  <td>0.3343</td>  <td>True</td> \n",
       "</tr>\n",
       "<tr>\n",
       "    <td>NO</td>     <td>SE</td>    <td>0.1244</td>  <td>-0.0585</td> <td>0.3074</td>  <td>False</td>\n",
       "</tr>\n",
       "</table>"
      ],
      "text/plain": [
       "<class 'statsmodels.iolib.table.SimpleTable'>"
      ]
     },
     "execution_count": 28,
     "metadata": {},
     "output_type": "execute_result"
    }
   ],
   "source": [
    "values = np.asarray(ess[(ess['year'] == 7) & (ess['cntry'] == 'CZ')]['sclmeet'].tolist() +\n",
    "                    ess[(ess['year'] == 7) & (ess['cntry'] == 'ES')]['sclmeet'].tolist() +\n",
    "                    ess[(ess['year'] == 7) & (ess['cntry'] == 'NO')]['sclmeet'].tolist() +\n",
    "                    ess[(ess['year'] == 7) & (ess['cntry'] == 'SE')]['sclmeet'].tolist()\n",
    "                    )\n",
    "\n",
    "countries_list = list(np.repeat('CZ',yr_2014_counts[4])) + list(np.repeat('ES',yr_2014_counts[0])) + list(np.repeat('NO',yr_2014_counts[3])) + list(np.repeat('SE',yr_2014_counts[1]))\n",
    "\n",
    "tukey = pairwise_tukeyhsd(endog=values,           # Data\n",
    "                          groups=countries_list,  # Groups\n",
    "                          alpha=0.05)             # p-value\n",
    "\n",
    "tukey.summary()"
   ]
  },
  {
   "cell_type": "markdown",
   "metadata": {},
   "source": [
    "The table above shows which pairs of countries show a stitistically significant difference from each other. The country pairs where the null hypothesis should be rejected are Czech Republic-Spain, Czech Republic-Norway, Czech Republic-Sweden, and Spain-Sweden."
   ]
  },
  {
   "cell_type": "markdown",
   "metadata": {},
   "source": [
    "### Pick three or four of the countries in the sample and compare how often people took part in social activities, relative to others their age, in 2014. Are there differences, and if so, which countries stand out?"
   ]
  },
  {
   "cell_type": "markdown",
   "metadata": {},
   "source": [
    "As can be seen below, the ages are fairly normally distributed:"
   ]
  },
  {
   "cell_type": "code",
   "execution_count": 30,
   "metadata": {},
   "outputs": [
    {
     "data": {
      "text/plain": [
       "<matplotlib.axes._subplots.AxesSubplot at 0x1c326ee7a20>"
      ]
     },
     "execution_count": 30,
     "metadata": {},
     "output_type": "execute_result"
    },
    {
     "data": {
      "image/png": "[encoded data removed]",
      "text/plain": [
       "<matplotlib.figure.Figure at 0x1c3263b5518>"
      ]
     },
     "metadata": {},
     "output_type": "display_data"
    }
   ],
   "source": [
    "ess['agea'].hist()"
   ]
  },
  {
   "cell_type": "code",
   "execution_count": 34,
   "metadata": {},
   "outputs": [
    {
     "data": {
      "text/plain": [
       "18.315766047884196"
      ]
     },
     "execution_count": 34,
     "metadata": {},
     "output_type": "execute_result"
    }
   ],
   "source": [
    "sd = np.std(ess['agea'])\n",
    "sd"
   ]
  },
  {
   "cell_type": "code",
   "execution_count": 36,
   "metadata": {},
   "outputs": [
    {
     "data": {
      "text/plain": [
       "47.26218239842887"
      ]
     },
     "execution_count": 36,
     "metadata": {},
     "output_type": "execute_result"
    }
   ],
   "source": [
    "mn = np.mean(ess['agea'])\n",
    "mn"
   ]
  },
  {
   "cell_type": "code",
   "execution_count": 40,
   "metadata": {},
   "outputs": [
    {
     "name": "stdout",
     "output_type": "stream",
     "text": [
      "age bounds: 28.946416350544673 , 65.57794844631306\n"
     ]
    }
   ],
   "source": [
    "print('age bounds:', mn - sd, ',', mn + sd)"
   ]
  },
  {
   "cell_type": "markdown",
   "metadata": {},
   "source": [
    "As a way to stratify the data according to age, we next divide the data into four age-group bands according to a set number of standard deviations from the mean:"
   ]
  },
  {
   "cell_type": "code",
   "execution_count": 41,
   "metadata": {
    "collapsed": true
   },
   "outputs": [],
   "source": [
    "ess_lower = ess[ess['agea'] <= mn - sd]\n",
    "ess_lower_mid = ess[(ess['agea'] > mn - sd) & (ess['agea'] <= mn)]\n",
    "ess_upper_mid = ess[(ess['agea'] > mn) & (ess['agea'] <= mn + sd)]\n",
    "ess_upper = ess[ess['agea'] > mn + sd]"
   ]
  },
  {
   "cell_type": "code",
   "execution_count": 71,
   "metadata": {},
   "outputs": [
    {
     "data": {
      "image/png": "[encoded data removed]",
      "text/plain": [
       "<matplotlib.figure.Figure at 0x1c326318ba8>"
      ]
     },
     "metadata": {},
     "output_type": "display_data"
    }
   ],
   "source": [
    "bands = [ess_lower, ess_lower_mid, ess_upper_mid, ess_upper]\n",
    "titles = ['lower', 'lower-mid', 'upper-mid', 'upper']\n",
    "for i in range(0, len(bands)):\n",
    "    plt.subplot(1,4,i+1)\n",
    "    bands[i]['sclact'].hist()\n",
    "    plt.title('Distrib. of social activity:' + titles[i])\n",
    "plt.show()"
   ]
  },
  {
   "cell_type": "markdown",
   "metadata": {},
   "source": [
    "From the above histograms, we can see that the social activity responses are normally distributed. "
   ]
  },
  {
   "cell_type": "code",
   "execution_count": 72,
   "metadata": {},
   "outputs": [],
   "source": [
    "bands = [ess_lower, ess_lower_mid, ess_upper_mid, ess_upper]\n",
    "countries_b = ['CZ', 'ES', 'NO', 'SE']"
   ]
  },
  {
   "cell_type": "code",
   "execution_count": 99,
   "metadata": {
    "collapsed": true
   },
   "outputs": [],
   "source": [
    "def tukey(df):\n",
    "    subsets = [df[(df['cntry'] == country) & (df['year'] == 7)]['sclact'] for country in countries_b]\n",
    "    F, p = stats.f_oneway(subsets[0], subsets[1], subsets[2], subsets[3])\n",
    "    print('F-test value: ' + str(F))\n",
    "    print('p-value: ' + str(p) + '\\n')\n",
    "    print('-' * 50)\n",
    "    \n",
    "    yr_2014_counts = df[df['year'] == 7]['cntry'].value_counts()\n",
    "    yr_2014_counts\n",
    "    \n",
    "    values = np.asarray(df[(df['year'] == 7) & (df['cntry'] == 'CZ')]['sclact'].tolist() +\n",
    "                    df[(df['year'] == 7) & (df['cntry'] == 'ES')]['sclact'].tolist() +\n",
    "                    df[(df['year'] == 7) & (df['cntry'] == 'NO')]['sclact'].tolist() +\n",
    "                    df[(df['year'] == 7) & (df['cntry'] == 'SE')]['sclact'].tolist()\n",
    "                    )\n",
    "\n",
    "    countries_list = list(np.repeat('CZ',yr_2014_counts['CZ'])) + list(np.repeat('ES',yr_2014_counts['ES'])) + list(np.repeat('NO',yr_2014_counts['NO'])) + list(np.repeat('SE',yr_2014_counts['SE']))\n",
    "\n",
    "    tukey = pairwise_tukeyhsd(endog=values,       # Data\n",
    "                          groups=countries_list,  # Groups\n",
    "                          alpha=0.05)             # p-value\n",
    "\n",
    "    display(tukey.summary())"
   ]
  },
  {
   "cell_type": "markdown",
   "metadata": {},
   "source": [
    "### Analysis\n",
    "We now calculate, for each age band, a Tukey Honest Significant Differences Test. This shows, for each pair of countries, whether the null hypothesis (that there is no statistically significant difference between the sample means) should be rejected. Only for a few pairs is this the case, all involving Spain and/ or Sweden:"
   ]
  },
  {
   "cell_type": "code",
   "execution_count": 100,
   "metadata": {},
   "outputs": [
    {
     "name": "stdout",
     "output_type": "stream",
     "text": [
      "F-test value: 2.78909057368\n",
      "p-value: 0.0398416516803\n",
      "\n",
      "--------------------------------------------------\n"
     ]
    },
    {
     "data": {
      "text/html": [
       "<table class=\"simpletable\">\n",
       "<caption>Multiple Comparison of Means - Tukey HSD,FWER=0.05</caption>\n",
       "<tr>\n",
       "  <th>group1</th> <th>group2</th> <th>meandiff</th>  <th>lower</th>   <th>upper</th> <th>reject</th>\n",
       "</tr>\n",
       "<tr>\n",
       "    <td>CZ</td>     <td>ES</td>    <td>-0.2233</td> <td>-0.4725</td> <td>0.0258</td>  <td>False</td>\n",
       "</tr>\n",
       "<tr>\n",
       "    <td>CZ</td>     <td>NO</td>    <td>0.0019</td>  <td>-0.2619</td> <td>0.2658</td>  <td>False</td>\n",
       "</tr>\n",
       "<tr>\n",
       "    <td>CZ</td>     <td>SE</td>    <td>-0.0701</td> <td>-0.3246</td> <td>0.1845</td>  <td>False</td>\n",
       "</tr>\n",
       "<tr>\n",
       "    <td>ES</td>     <td>NO</td>    <td>0.2253</td>  <td>-0.0073</td> <td>0.4579</td>  <td>False</td>\n",
       "</tr>\n",
       "<tr>\n",
       "    <td>ES</td>     <td>SE</td>    <td>0.1533</td>  <td>-0.0687</td> <td>0.3753</td>  <td>False</td>\n",
       "</tr>\n",
       "<tr>\n",
       "    <td>NO</td>     <td>SE</td>    <td>-0.072</td>  <td>-0.3104</td> <td>0.1664</td>  <td>False</td>\n",
       "</tr>\n",
       "</table>"
      ],
      "text/plain": [
       "<class 'statsmodels.iolib.table.SimpleTable'>"
      ]
     },
     "metadata": {},
     "output_type": "display_data"
    }
   ],
   "source": [
    "tukey(ess_lower)"
   ]
  },
  {
   "cell_type": "code",
   "execution_count": 101,
   "metadata": {},
   "outputs": [
    {
     "name": "stdout",
     "output_type": "stream",
     "text": [
      "F-test value: 5.20163890474\n",
      "p-value: 0.0014391369744\n",
      "\n",
      "--------------------------------------------------\n"
     ]
    },
    {
     "data": {
      "text/html": [
       "<table class=\"simpletable\">\n",
       "<caption>Multiple Comparison of Means - Tukey HSD,FWER=0.05</caption>\n",
       "<tr>\n",
       "  <th>group1</th> <th>group2</th> <th>meandiff</th>  <th>lower</th>   <th>upper</th> <th>reject</th>\n",
       "</tr>\n",
       "<tr>\n",
       "    <td>CZ</td>     <td>ES</td>    <td>0.0453</td>  <td>-0.135</td>  <td>0.2256</td>  <td>False</td>\n",
       "</tr>\n",
       "<tr>\n",
       "    <td>CZ</td>     <td>NO</td>    <td>0.1659</td>  <td>-0.0368</td> <td>0.3685</td>  <td>False</td>\n",
       "</tr>\n",
       "<tr>\n",
       "    <td>CZ</td>     <td>SE</td>    <td>0.2723</td>   <td>0.068</td>  <td>0.4766</td>  <td>True</td> \n",
       "</tr>\n",
       "<tr>\n",
       "    <td>ES</td>     <td>NO</td>    <td>0.1206</td>  <td>-0.0578</td>  <td>0.299</td>  <td>False</td>\n",
       "</tr>\n",
       "<tr>\n",
       "    <td>ES</td>     <td>SE</td>     <td>0.227</td>  <td>0.0467</td>  <td>0.4073</td>  <td>True</td> \n",
       "</tr>\n",
       "<tr>\n",
       "    <td>NO</td>     <td>SE</td>    <td>0.1064</td>  <td>-0.0962</td> <td>0.3091</td>  <td>False</td>\n",
       "</tr>\n",
       "</table>"
      ],
      "text/plain": [
       "<class 'statsmodels.iolib.table.SimpleTable'>"
      ]
     },
     "metadata": {},
     "output_type": "display_data"
    }
   ],
   "source": [
    "tukey(ess_lower_mid)"
   ]
  },
  {
   "cell_type": "code",
   "execution_count": 102,
   "metadata": {},
   "outputs": [
    {
     "name": "stdout",
     "output_type": "stream",
     "text": [
      "F-test value: 1.87041278613\n",
      "p-value: 0.132849587654\n",
      "\n",
      "--------------------------------------------------\n"
     ]
    },
    {
     "data": {
      "text/html": [
       "<table class=\"simpletable\">\n",
       "<caption>Multiple Comparison of Means - Tukey HSD,FWER=0.05</caption>\n",
       "<tr>\n",
       "  <th>group1</th> <th>group2</th> <th>meandiff</th>  <th>lower</th>   <th>upper</th> <th>reject</th>\n",
       "</tr>\n",
       "<tr>\n",
       "    <td>CZ</td>     <td>ES</td>    <td>-0.0448</td> <td>-0.246</td>  <td>0.1565</td>  <td>False</td>\n",
       "</tr>\n",
       "<tr>\n",
       "    <td>CZ</td>     <td>NO</td>    <td>0.1035</td>  <td>-0.1192</td> <td>0.3261</td>  <td>False</td>\n",
       "</tr>\n",
       "<tr>\n",
       "    <td>CZ</td>     <td>SE</td>    <td>0.0976</td>  <td>-0.1167</td> <td>0.3118</td>  <td>False</td>\n",
       "</tr>\n",
       "<tr>\n",
       "    <td>ES</td>     <td>NO</td>    <td>0.1482</td>  <td>-0.0504</td> <td>0.3468</td>  <td>False</td>\n",
       "</tr>\n",
       "<tr>\n",
       "    <td>ES</td>     <td>SE</td>    <td>0.1423</td>  <td>-0.0468</td> <td>0.3315</td>  <td>False</td>\n",
       "</tr>\n",
       "<tr>\n",
       "    <td>NO</td>     <td>SE</td>    <td>-0.0059</td> <td>-0.2177</td> <td>0.2059</td>  <td>False</td>\n",
       "</tr>\n",
       "</table>"
      ],
      "text/plain": [
       "<class 'statsmodels.iolib.table.SimpleTable'>"
      ]
     },
     "metadata": {},
     "output_type": "display_data"
    }
   ],
   "source": [
    "tukey(ess_upper_mid)"
   ]
  },
  {
   "cell_type": "code",
   "execution_count": 103,
   "metadata": {},
   "outputs": [
    {
     "name": "stdout",
     "output_type": "stream",
     "text": [
      "F-test value: 13.6298797524\n",
      "p-value: 1.30195800638e-08\n",
      "\n",
      "--------------------------------------------------\n"
     ]
    },
    {
     "data": {
      "text/html": [
       "<table class=\"simpletable\">\n",
       "<caption>Multiple Comparison of Means - Tukey HSD,FWER=0.05</caption>\n",
       "<tr>\n",
       "  <th>group1</th> <th>group2</th> <th>meandiff</th>  <th>lower</th>   <th>upper</th> <th>reject</th>\n",
       "</tr>\n",
       "<tr>\n",
       "    <td>CZ</td>     <td>ES</td>    <td>-0.2954</td> <td>-0.6591</td> <td>0.0683</td>  <td>False</td>\n",
       "</tr>\n",
       "<tr>\n",
       "    <td>CZ</td>     <td>NO</td>    <td>0.2596</td>  <td>-0.1315</td> <td>0.6506</td>  <td>False</td>\n",
       "</tr>\n",
       "<tr>\n",
       "    <td>CZ</td>     <td>SE</td>    <td>0.2596</td>  <td>-0.1011</td> <td>0.6203</td>  <td>False</td>\n",
       "</tr>\n",
       "<tr>\n",
       "    <td>ES</td>     <td>NO</td>    <td>0.5549</td>  <td>0.2659</td>   <td>0.844</td>  <td>True</td> \n",
       "</tr>\n",
       "<tr>\n",
       "    <td>ES</td>     <td>SE</td>     <td>0.555</td>  <td>0.3085</td>  <td>0.8014</td>  <td>True</td> \n",
       "</tr>\n",
       "<tr>\n",
       "    <td>NO</td>     <td>SE</td>      <td>0.0</td>   <td>-0.2852</td> <td>0.2853</td>  <td>False</td>\n",
       "</tr>\n",
       "</table>"
      ],
      "text/plain": [
       "<class 'statsmodels.iolib.table.SimpleTable'>"
      ]
     },
     "metadata": {},
     "output_type": "display_data"
    }
   ],
   "source": [
    "tukey(ess_upper)"
   ]
  },
  {
   "cell_type": "code",
   "execution_count": null,
   "metadata": {
    "collapsed": true
   },
   "outputs": [],
   "source": []
  }
 ],
 "metadata": {
  "kernelspec": {
   "display_name": "Python 3",
   "language": "python",
   "name": "python3"
  },
  "language_info": {
   "codemirror_mode": {
    "name": "ipython",
    "version": 3
   },
   "file_extension": ".py",
   "mimetype": "text/x-python",
   "name": "python",
   "nbconvert_exporter": "python",
   "pygments_lexer": "ipython3",
   "version": "3.6.2"
  }
 },
 "nbformat": 4,
 "nbformat_minor": 2
}
